{
 "cells": [
  {
   "cell_type": "code",
   "execution_count": 89,
   "metadata": {},
   "outputs": [],
   "source": [
    "import pandas as pd\n",
    "import numpy as np\n",
    "import matplotlib.pyplot as plt\n",
    "import colorama as col"
   ]
  },
  {
   "cell_type": "code",
   "execution_count": 50,
   "metadata": {},
   "outputs": [
    {
     "data": {
      "text/html": [
       "<div>\n",
       "<style scoped>\n",
       "    .dataframe tbody tr th:only-of-type {\n",
       "        vertical-align: middle;\n",
       "    }\n",
       "\n",
       "    .dataframe tbody tr th {\n",
       "        vertical-align: top;\n",
       "    }\n",
       "\n",
       "    .dataframe thead th {\n",
       "        text-align: right;\n",
       "    }\n",
       "</style>\n",
       "<table border=\"1\" class=\"dataframe\">\n",
       "  <thead>\n",
       "    <tr style=\"text-align: right;\">\n",
       "      <th></th>\n",
       "      <th>Latitude</th>\n",
       "      <th>Longitude</th>\n",
       "      <th>DBm</th>\n",
       "    </tr>\n",
       "  </thead>\n",
       "  <tbody>\n",
       "    <tr>\n",
       "      <th>0</th>\n",
       "      <td>10.599894</td>\n",
       "      <td>14.291382</td>\n",
       "      <td>-91</td>\n",
       "    </tr>\n",
       "    <tr>\n",
       "      <th>1</th>\n",
       "      <td>10.599894</td>\n",
       "      <td>14.291382</td>\n",
       "      <td>-93</td>\n",
       "    </tr>\n",
       "    <tr>\n",
       "      <th>2</th>\n",
       "      <td>10.599894</td>\n",
       "      <td>14.291382</td>\n",
       "      <td>-91</td>\n",
       "    </tr>\n",
       "    <tr>\n",
       "      <th>3</th>\n",
       "      <td>10.599894</td>\n",
       "      <td>14.291382</td>\n",
       "      <td>-93</td>\n",
       "    </tr>\n",
       "    <tr>\n",
       "      <th>4</th>\n",
       "      <td>10.599894</td>\n",
       "      <td>14.291382</td>\n",
       "      <td>-91</td>\n",
       "    </tr>\n",
       "    <tr>\n",
       "      <th>...</th>\n",
       "      <td>...</td>\n",
       "      <td>...</td>\n",
       "      <td>...</td>\n",
       "    </tr>\n",
       "    <tr>\n",
       "      <th>25100</th>\n",
       "      <td>10.602303</td>\n",
       "      <td>14.298652</td>\n",
       "      <td>-91</td>\n",
       "    </tr>\n",
       "    <tr>\n",
       "      <th>25101</th>\n",
       "      <td>10.602303</td>\n",
       "      <td>14.298652</td>\n",
       "      <td>-77</td>\n",
       "    </tr>\n",
       "    <tr>\n",
       "      <th>25102</th>\n",
       "      <td>10.602303</td>\n",
       "      <td>14.298652</td>\n",
       "      <td>-93</td>\n",
       "    </tr>\n",
       "    <tr>\n",
       "      <th>25103</th>\n",
       "      <td>10.602303</td>\n",
       "      <td>14.298652</td>\n",
       "      <td>-75</td>\n",
       "    </tr>\n",
       "    <tr>\n",
       "      <th>25104</th>\n",
       "      <td>10.602303</td>\n",
       "      <td>14.298652</td>\n",
       "      <td>-93</td>\n",
       "    </tr>\n",
       "  </tbody>\n",
       "</table>\n",
       "<p>25105 rows × 3 columns</p>\n",
       "</div>"
      ],
      "text/plain": [
       "        Latitude  Longitude  DBm\n",
       "0      10.599894  14.291382  -91\n",
       "1      10.599894  14.291382  -93\n",
       "2      10.599894  14.291382  -91\n",
       "3      10.599894  14.291382  -93\n",
       "4      10.599894  14.291382  -91\n",
       "...          ...        ...  ...\n",
       "25100  10.602303  14.298652  -91\n",
       "25101  10.602303  14.298652  -77\n",
       "25102  10.602303  14.298652  -93\n",
       "25103  10.602303  14.298652  -75\n",
       "25104  10.602303  14.298652  -93\n",
       "\n",
       "[25105 rows x 3 columns]"
      ]
     },
     "execution_count": 50,
     "metadata": {},
     "output_type": "execute_result"
    }
   ],
   "source": [
    "df=pd.read_excel('gps-baoliwolbon.xlsx')\n",
    "df"
   ]
  },
  {
   "cell_type": "code",
   "execution_count": 58,
   "metadata": {},
   "outputs": [
    {
     "data": {
      "image/png": "[encoded data removed]",
      "text/plain": [
       "<Figure size 640x480 with 1 Axes>"
      ]
     },
     "metadata": {},
     "output_type": "display_data"
    }
   ],
   "source": [
    "hist=df.hist(column='DBm',bins=20)"
   ]
  },
  {
   "cell_type": "code",
   "execution_count": 104,
   "metadata": {},
   "outputs": [
    {
     "name": "stdout",
     "output_type": "stream",
     "text": [
      "        Latitude  Longitude  DBm                        Statut\n",
      "0      10.599894  14.291382  -91       Bon \u001b[30m\u001b[44m     \u001b[0m\n",
      "1      10.599894  14.291382  -93       Bon \u001b[30m\u001b[44m     \u001b[0m\n",
      "2      10.599894  14.291382  -91       Bon \u001b[30m\u001b[44m     \u001b[0m\n",
      "3      10.599894  14.291382  -93       Bon \u001b[30m\u001b[44m     \u001b[0m\n",
      "4      10.599894  14.291382  -91       Bon \u001b[30m\u001b[44m     \u001b[0m\n",
      "...          ...        ...  ...                           ...\n",
      "25100  10.602303  14.298652  -91       Bon \u001b[30m\u001b[44m     \u001b[0m\n",
      "25101  10.602303  14.298652  -77  Très bon \u001b[30m\u001b[43m     \u001b[0m\n",
      "25102  10.602303  14.298652  -93       Bon \u001b[30m\u001b[44m     \u001b[0m\n",
      "25103  10.602303  14.298652  -75  Très bon \u001b[30m\u001b[43m     \u001b[0m\n",
      "25104  10.602303  14.298652  -93       Bon \u001b[30m\u001b[44m     \u001b[0m\n",
      "\n",
      "[25105 rows x 4 columns]\n"
     ]
    }
   ],
   "source": [
    "df.loc[(df['DBm'] <= -51) & (df['DBm'] >= -71), 'Statut'] = 'Excellent' + \" \" + colorama.Fore.BLACK + colorama.Back.RED + \"     \" + colorama.Style.RESET_ALL\n",
    "df.loc[(df['DBm'] <= -75) & (df['DBm'] >= -85), 'Statut'] = 'Très bon' + \" \" + colorama.Fore.BLACK + colorama.Back.YELLOW + \"     \" + colorama.Style.RESET_ALL\n",
    "df.loc[(df['DBm'] <= -85) & (df['DBm'] >= -95), 'Statut'] = 'Bon' + \" \" + colorama.Fore.BLACK + colorama.Back.BLUE + \"     \" + colorama.Style.RESET_ALL\n",
    "df.loc[(df['DBm'] <= -95) & (df['DBm'] >= -105), 'Statut'] = 'Moyen'\n",
    "df.loc[(df['DBm'] <= -105) & (df['DBm'] >= -115), 'Statut'] = 'Mauvais'\n",
    "df.loc[(df['DBm'] <= -115), 'Statut'] = 'Très mauvais'\n",
    "print(df)"
   ]
  },
  {
   "cell_type": "code",
   "execution_count": null,
   "metadata": {},
   "outputs": [],
   "source": []
  }
 ],
 "metadata": {
  "kernelspec": {
   "display_name": "Python 3",
   "language": "python",
   "name": "python3"
  },
  "language_info": {
   "codemirror_mode": {
    "name": "ipython",
    "version": 3
   },
   "file_extension": ".py",
   "mimetype": "text/x-python",
   "name": "python",
   "nbconvert_exporter": "python",
   "pygments_lexer": "ipython3",
   "version": "3.9.2"
  }
 },
 "nbformat": 4,
 "nbformat_minor": 2
}
